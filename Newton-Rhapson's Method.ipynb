{
 "cells": [
  {
   "cell_type": "code",
   "execution_count": 1,
   "id": "a0d7d621-64bb-43eb-86f0-eed9d46aadbd",
   "metadata": {},
   "outputs": [],
   "source": [
    "# Newton - Rhapson's Method\n",
    "# x3 = N\n",
    "# f(x) = x3 - N\n",
    "# f'(x) = 3x2\n",
    "# x(n + 1) = x(n) - f(x)/f'(x)"
   ]
  },
  {
   "cell_type": "code",
   "execution_count": 2,
   "id": "fcd6df43-e4eb-44b6-9fe4-ca8e37e11a86",
   "metadata": {},
   "outputs": [
    {
     "name": "stdin",
     "output_type": "stream",
     "text": [
      "Enter your number : \n",
      " 125\n"
     ]
    },
    {
     "name": "stdout",
     "output_type": "stream",
     "text": [
      "The cube root of your number is : 5.0\n"
     ]
    }
   ],
   "source": [
    "n = float(input(\"Enter your number : \\n\"))\n",
    "\n",
    "x = 0.7\n",
    "\n",
    "while (abs(x**3 - n) > 0.0000000000001):\n",
    "    x = x - ((x**3 - n)/ (3 * x**2))\n",
    "\n",
    "print(f\"The cube root of your number is : {x}\")"
   ]
  }
 ],
 "metadata": {
  "kernelspec": {
   "display_name": "Python 3 (ipykernel)",
   "language": "python",
   "name": "python3"
  },
  "language_info": {
   "codemirror_mode": {
    "name": "ipython",
    "version": 3
   },
   "file_extension": ".py",
   "mimetype": "text/x-python",
   "name": "python",
   "nbconvert_exporter": "python",
   "pygments_lexer": "ipython3",
   "version": "3.12.2"
  }
 },
 "nbformat": 4,
 "nbformat_minor": 5
}
